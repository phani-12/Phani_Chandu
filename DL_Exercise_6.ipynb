{
  "cells": [
    {
      "cell_type": "markdown",
      "metadata": {
        "id": "view-in-github",
        "colab_type": "text"
      },
      "source": [
        "<a href=\"https://colab.research.google.com/github/avimallick/Deep-Learning-Assignments/blob/master/19113015_DL_Assignment6.ipynb\" target=\"_parent\"><img src=\"https://colab.research.google.com/assets/colab-badge.svg\" alt=\"Open In Colab\"/></a>"
      ]
    },
    {
      "cell_type": "markdown",
      "metadata": {
        "id": "Ndo4ERqnwQOU"
      },
      "source": [
        "# DEEP LEARNING ASSIGNMENT 6\n",
        "##Chandu Phani Babu\n",
        "##19113061\n",
        "##CSE-7B"
      ]
    },
    {
      "cell_type": "markdown",
      "metadata": {
        "id": "xfNT-mlFwxVM"
      },
      "source": [
        "# Intro to Autoencoders"
      ]
    },
    {
      "cell_type": "markdown",
      "metadata": {
        "id": "e1_Y75QXJS6h"
      },
      "source": [
        "## Import TensorFlow and other libraries"
      ]
    },
    {
      "cell_type": "code",
      "execution_count": 1,
      "metadata": {
        "id": "YfIk2es3hJEd"
      },
      "outputs": [],
      "source": [
        "import matplotlib.pyplot as plt\n",
        "import numpy as np\n",
        "import pandas as pd\n",
        "import tensorflow as tf\n",
        "\n",
        "from sklearn.metrics import accuracy_score, precision_score, recall_score\n",
        "from sklearn.model_selection import train_test_split\n",
        "from tensorflow.keras import layers, losses\n",
        "from tensorflow.keras.datasets import fashion_mnist\n",
        "from tensorflow.keras.models import Model"
      ]
    },
    {
      "cell_type": "markdown",
      "metadata": {
        "id": "iYn4MdZnKCey"
      },
      "source": [
        "## Load the dataset\n",
        "To start, you will train the basic autoencoder using the Fashion MNIST dataset. Each image in this dataset is 28x28 pixels. "
      ]
    },
    {
      "cell_type": "code",
      "execution_count": 2,
      "metadata": {
        "id": "YZm503-I_tji",
        "colab": {
          "base_uri": "https://localhost:8080/"
        },
        "outputId": "7c62ddc4-6926-4927-9ad5-25048d4b691a"
      },
      "outputs": [
        {
          "output_type": "stream",
          "name": "stdout",
          "text": [
            "Downloading data from https://storage.googleapis.com/tensorflow/tf-keras-datasets/train-labels-idx1-ubyte.gz\n",
            "29515/29515 [==============================] - 0s 0us/step\n",
            "Downloading data from https://storage.googleapis.com/tensorflow/tf-keras-datasets/train-images-idx3-ubyte.gz\n",
            "26421880/26421880 [==============================] - 0s 0us/step\n",
            "Downloading data from https://storage.googleapis.com/tensorflow/tf-keras-datasets/t10k-labels-idx1-ubyte.gz\n",
            "5148/5148 [==============================] - 0s 0us/step\n",
            "Downloading data from https://storage.googleapis.com/tensorflow/tf-keras-datasets/t10k-images-idx3-ubyte.gz\n",
            "4422102/4422102 [==============================] - 0s 0us/step\n",
            "(60000, 28, 28)\n",
            "(10000, 28, 28)\n"
          ]
        }
      ],
      "source": [
        "(x_train, _), (x_test, _) = fashion_mnist.load_data()\n",
        "\n",
        "x_train = x_train.astype('float32') / 255.\n",
        "x_test = x_test.astype('float32') / 255.\n",
        "\n",
        "print (x_train.shape)\n",
        "print (x_test.shape)"
      ]
    },
    {
      "cell_type": "markdown",
      "metadata": {
        "id": "VEdCXSwCoKok"
      },
      "source": [
        "## First example: Basic autoencoder\n",
        "![Basic autoencoder results](https://github.com/tensorflow/docs/blob/master/site/en/tutorials/generative/images/intro_autoencoder_result.png?raw=1)\n",
        "\n",
        "Define an autoencoder with two Dense layers: an `encoder`, which compresses the images into a 64 dimensional latent vector, and a `decoder`, that reconstructs the original image from the latent space.\n",
        "\n",
        "To define your model, use the [Keras Model Subclassing API](https://www.tensorflow.org/guide/keras/custom_layers_and_models).\n"
      ]
    },
    {
      "cell_type": "code",
      "execution_count": 3,
      "metadata": {
        "id": "0MUxidpyChjX"
      },
      "outputs": [],
      "source": [
        "latent_dim = 64 \n",
        "\n",
        "class Autoencoder(Model):\n",
        "  def __init__(self, latent_dim):\n",
        "    super(Autoencoder, self).__init__()\n",
        "    self.latent_dim = latent_dim   \n",
        "    self.encoder = tf.keras.Sequential([\n",
        "      layers.Flatten(),\n",
        "      layers.Dense(latent_dim, activation='relu'),\n",
        "    ])\n",
        "    self.decoder = tf.keras.Sequential([\n",
        "      layers.Dense(784, activation='sigmoid'),\n",
        "      layers.Reshape((28, 28))\n",
        "    ])\n",
        "\n",
        "  def call(self, x):\n",
        "    encoded = self.encoder(x)\n",
        "    decoded = self.decoder(encoded)\n",
        "    return decoded\n",
        "  \n",
        "autoencoder = Autoencoder(latent_dim) "
      ]
    },
    {
      "cell_type": "code",
      "execution_count": 4,
      "metadata": {
        "id": "9I1JlqEIDCI4"
      },
      "outputs": [],
      "source": [
        "autoencoder.compile(optimizer='adam', loss=losses.MeanSquaredError())"
      ]
    },
    {
      "cell_type": "markdown",
      "metadata": {
        "id": "7oJSeMTroABs"
      },
      "source": [
        "Train the model using `x_train` as both the input and the target. The `encoder` will learn to compress the dataset from 784 dimensions to the latent space, and the `decoder` will learn to reconstruct the original images.\n",
        "."
      ]
    },
    {
      "cell_type": "code",
      "execution_count": 5,
      "metadata": {
        "id": "h1RI9OfHDBsK",
        "colab": {
          "base_uri": "https://localhost:8080/"
        },
        "outputId": "da637c6c-6763-445d-cc14-9fe06b474212"
      },
      "outputs": [
        {
          "output_type": "stream",
          "name": "stdout",
          "text": [
            "Epoch 1/10\n",
            "1875/1875 [==============================] - 7s 2ms/step - loss: 0.0237 - val_loss: 0.0132\n",
            "Epoch 2/10\n",
            "1875/1875 [==============================] - 4s 2ms/step - loss: 0.0116 - val_loss: 0.0107\n",
            "Epoch 3/10\n",
            "1875/1875 [==============================] - 4s 2ms/step - loss: 0.0100 - val_loss: 0.0097\n",
            "Epoch 4/10\n",
            "1875/1875 [==============================] - 4s 2ms/step - loss: 0.0095 - val_loss: 0.0094\n",
            "Epoch 5/10\n",
            "1875/1875 [==============================] - 4s 2ms/step - loss: 0.0092 - val_loss: 0.0092\n",
            "Epoch 6/10\n",
            "1875/1875 [==============================] - 4s 2ms/step - loss: 0.0090 - val_loss: 0.0091\n",
            "Epoch 7/10\n",
            "1875/1875 [==============================] - 4s 2ms/step - loss: 0.0089 - val_loss: 0.0089\n",
            "Epoch 8/10\n",
            "1875/1875 [==============================] - 4s 2ms/step - loss: 0.0088 - val_loss: 0.0089\n",
            "Epoch 9/10\n",
            "1875/1875 [==============================] - 4s 2ms/step - loss: 0.0088 - val_loss: 0.0088\n",
            "Epoch 10/10\n",
            "1875/1875 [==============================] - 4s 2ms/step - loss: 0.0087 - val_loss: 0.0088\n"
          ]
        },
        {
          "output_type": "execute_result",
          "data": {
            "text/plain": [
              "<keras.callbacks.History at 0x7f8e00332b50>"
            ]
          },
          "metadata": {},
          "execution_count": 5
        }
      ],
      "source": [
        "autoencoder.fit(x_train, x_train,\n",
        "                epochs=10,\n",
        "                shuffle=True,\n",
        "                validation_data=(x_test, x_test))"
      ]
    },
    {
      "cell_type": "markdown",
      "metadata": {
        "id": "wAM1QBhtoC-n"
      },
      "source": [
        "Now that the model is trained, let's test it by encoding and decoding images from the test set."
      ]
    },
    {
      "cell_type": "code",
      "execution_count": 6,
      "metadata": {
        "id": "Pbr5WCj7FQUi"
      },
      "outputs": [],
      "source": [
        "encoded_imgs = autoencoder.encoder(x_test).numpy()\n",
        "decoded_imgs = autoencoder.decoder(encoded_imgs).numpy()"
      ]
    },
    {
      "cell_type": "code",
      "execution_count": 7,
      "metadata": {
        "id": "s4LlDOS6FUA1",
        "colab": {
          "base_uri": "https://localhost:8080/",
          "height": 239
        },
        "outputId": "d2220d1f-ccee-43c2-fd03-1dddde758d63"
      },
      "outputs": [
        {
          "output_type": "display_data",
          "data": {
            "text/plain": [
              "<Figure size 1440x288 with 20 Axes>"
            ],
            "image/png": "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\n"
          },
          "metadata": {
            "needs_background": "light"
          }
        }
      ],
      "source": [
        "n = 10\n",
        "plt.figure(figsize=(20, 4))\n",
        "for i in range(n):\n",
        "  # display original\n",
        "  ax = plt.subplot(2, n, i + 1)\n",
        "  plt.imshow(x_test[i])\n",
        "  plt.title(\"original\")\n",
        "  plt.gray()\n",
        "  ax.get_xaxis().set_visible(False)\n",
        "  ax.get_yaxis().set_visible(False)\n",
        "\n",
        "  # display reconstruction\n",
        "  ax = plt.subplot(2, n, i + 1 + n)\n",
        "  plt.imshow(decoded_imgs[i])\n",
        "  plt.title(\"reconstructed\")\n",
        "  plt.gray()\n",
        "  ax.get_xaxis().set_visible(False)\n",
        "  ax.get_yaxis().set_visible(False)\n",
        "plt.show()"
      ]
    },
    {
      "cell_type": "markdown",
      "metadata": {
        "id": "r4gv6G8PoRQE"
      },
      "source": [
        "## Second example: Image denoising\n",
        "\n",
        "\n",
        "![Image denoising results](https://github.com/tensorflow/docs/blob/master/site/en/tutorials/generative/images/image_denoise_fmnist_results.png?raw=1)\n",
        "\n",
        "An autoencoder can also be trained to remove noise from images. In the following section, you will create a noisy version of the Fashion MNIST dataset by applying random noise to each image. You will then train an autoencoder using the noisy image as input, and the original image as the target.\n",
        "\n",
        "Let's reimport the dataset to omit the modifications made earlier."
      ]
    },
    {
      "cell_type": "code",
      "execution_count": 8,
      "metadata": {
        "id": "gDYHJA2PCQ3m"
      },
      "outputs": [],
      "source": [
        "(x_train, _), (x_test, _) = fashion_mnist.load_data()"
      ]
    },
    {
      "cell_type": "code",
      "execution_count": 9,
      "metadata": {
        "id": "uJZ-TcaqDBr5",
        "colab": {
          "base_uri": "https://localhost:8080/"
        },
        "outputId": "08484427-3106-4fab-b48b-58525dc7c4ca"
      },
      "outputs": [
        {
          "output_type": "stream",
          "name": "stdout",
          "text": [
            "(60000, 28, 28, 1)\n"
          ]
        }
      ],
      "source": [
        "x_train = x_train.astype('float32') / 255.\n",
        "x_test = x_test.astype('float32') / 255.\n",
        "\n",
        "x_train = x_train[..., tf.newaxis]\n",
        "x_test = x_test[..., tf.newaxis]\n",
        "\n",
        "print(x_train.shape)"
      ]
    },
    {
      "cell_type": "markdown",
      "metadata": {
        "id": "aPZl_6P65_8R"
      },
      "source": [
        "Adding random noise to the images"
      ]
    },
    {
      "cell_type": "code",
      "execution_count": 10,
      "metadata": {
        "id": "axSMyxC354fc"
      },
      "outputs": [],
      "source": [
        "noise_factor = 0.2\n",
        "x_train_noisy = x_train + noise_factor * tf.random.normal(shape=x_train.shape) \n",
        "x_test_noisy = x_test + noise_factor * tf.random.normal(shape=x_test.shape) \n",
        "\n",
        "x_train_noisy = tf.clip_by_value(x_train_noisy, clip_value_min=0., clip_value_max=1.)\n",
        "x_test_noisy = tf.clip_by_value(x_test_noisy, clip_value_min=0., clip_value_max=1.)"
      ]
    },
    {
      "cell_type": "markdown",
      "metadata": {
        "id": "wRxHe4XXltNd"
      },
      "source": [
        "Plot the noisy images.\n"
      ]
    },
    {
      "cell_type": "code",
      "execution_count": 11,
      "metadata": {
        "id": "thKUmbVVCQpt",
        "colab": {
          "base_uri": "https://localhost:8080/",
          "height": 142
        },
        "outputId": "62d2bfe5-0bb7-4cb7-e9fc-d59d3bee8546"
      },
      "outputs": [
        {
          "output_type": "display_data",
          "data": {
            "text/plain": [
              "<Figure size 1440x144 with 10 Axes>"
            ],
            "image/png": "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\n"
          },
          "metadata": {
            "needs_background": "light"
          }
        }
      ],
      "source": [
        "\n",
        "n = 10\n",
        "plt.figure(figsize=(20, 2))\n",
        "for i in range(n):\n",
        "    ax = plt.subplot(1, n, i + 1)\n",
        "    plt.title(\"original + noise\")\n",
        "    plt.imshow(tf.squeeze(x_test_noisy[i]))\n",
        "    plt.gray()\n",
        "plt.show()"
      ]
    },
    {
      "cell_type": "markdown",
      "metadata": {
        "id": "Sy9SY8jGl5aP"
      },
      "source": [
        "### Define a convolutional autoencoder"
      ]
    },
    {
      "cell_type": "markdown",
      "metadata": {
        "id": "vT_BhZngWMwp"
      },
      "source": [
        "In this example, you will train a convolutional autoencoder using  [Conv2D](https://www.tensorflow.org/api_docs/python/tf/keras/layers/Conv2D) layers in the `encoder`, and [Conv2DTranspose](https://www.tensorflow.org/api_docs/python/tf/keras/layers/Conv2DTranspose) layers in the `decoder`."
      ]
    },
    {
      "cell_type": "code",
      "execution_count": 12,
      "metadata": {
        "id": "R5KjoIlYCQko"
      },
      "outputs": [],
      "source": [
        "class Denoise(Model):\n",
        "  def __init__(self):\n",
        "    super(Denoise, self).__init__()\n",
        "    self.encoder = tf.keras.Sequential([\n",
        "      layers.Input(shape=(28, 28, 1)),\n",
        "      layers.Conv2D(16, (3, 3), activation='relu', padding='same', strides=2),\n",
        "      layers.Conv2D(8, (3, 3), activation='relu', padding='same', strides=2)])\n",
        "\n",
        "    self.decoder = tf.keras.Sequential([\n",
        "      layers.Conv2DTranspose(8, kernel_size=3, strides=2, activation='relu', padding='same'),\n",
        "      layers.Conv2DTranspose(16, kernel_size=3, strides=2, activation='relu', padding='same'),\n",
        "      layers.Conv2D(1, kernel_size=(3, 3), activation='sigmoid', padding='same')])\n",
        "\n",
        "  def call(self, x):\n",
        "    encoded = self.encoder(x)\n",
        "    decoded = self.decoder(encoded)\n",
        "    return decoded\n",
        "\n",
        "autoencoder = Denoise()"
      ]
    },
    {
      "cell_type": "code",
      "execution_count": 13,
      "metadata": {
        "id": "QYKbiDFYCQfj"
      },
      "outputs": [],
      "source": [
        "autoencoder.compile(optimizer='adam', loss=losses.MeanSquaredError())"
      ]
    },
    {
      "cell_type": "code",
      "execution_count": 14,
      "metadata": {
        "id": "IssFr1BNCQX3",
        "colab": {
          "base_uri": "https://localhost:8080/"
        },
        "outputId": "c3f44957-b989-48da-c2a6-a175ba5720ac"
      },
      "outputs": [
        {
          "output_type": "stream",
          "name": "stdout",
          "text": [
            "Epoch 1/10\n",
            "1875/1875 [==============================] - 14s 4ms/step - loss: 0.0169 - val_loss: 0.0099\n",
            "Epoch 2/10\n",
            "1875/1875 [==============================] - 7s 4ms/step - loss: 0.0090 - val_loss: 0.0085\n",
            "Epoch 3/10\n",
            "1875/1875 [==============================] - 7s 4ms/step - loss: 0.0080 - val_loss: 0.0078\n",
            "Epoch 4/10\n",
            "1875/1875 [==============================] - 7s 4ms/step - loss: 0.0075 - val_loss: 0.0075\n",
            "Epoch 5/10\n",
            "1875/1875 [==============================] - 7s 4ms/step - loss: 0.0073 - val_loss: 0.0073\n",
            "Epoch 6/10\n",
            "1875/1875 [==============================] - 7s 4ms/step - loss: 0.0072 - val_loss: 0.0071\n",
            "Epoch 7/10\n",
            "1875/1875 [==============================] - 7s 4ms/step - loss: 0.0071 - val_loss: 0.0072\n",
            "Epoch 8/10\n",
            "1875/1875 [==============================] - 7s 4ms/step - loss: 0.0070 - val_loss: 0.0070\n",
            "Epoch 9/10\n",
            "1875/1875 [==============================] - 6s 3ms/step - loss: 0.0069 - val_loss: 0.0069\n",
            "Epoch 10/10\n",
            "1875/1875 [==============================] - 6s 3ms/step - loss: 0.0069 - val_loss: 0.0069\n"
          ]
        },
        {
          "output_type": "execute_result",
          "data": {
            "text/plain": [
              "<keras.callbacks.History at 0x7f8d8e114c50>"
            ]
          },
          "metadata": {},
          "execution_count": 14
        }
      ],
      "source": [
        "autoencoder.fit(x_train_noisy, x_train,\n",
        "                epochs=10,\n",
        "                shuffle=True,\n",
        "                validation_data=(x_test_noisy, x_test))"
      ]
    },
    {
      "cell_type": "markdown",
      "metadata": {
        "id": "G85xUVBGTAKp"
      },
      "source": [
        "Let's take a look at a summary of the encoder. Notice how the images are downsampled from 28x28 to 7x7."
      ]
    },
    {
      "cell_type": "code",
      "execution_count": 15,
      "metadata": {
        "id": "oEpxlX6sTEQz",
        "colab": {
          "base_uri": "https://localhost:8080/"
        },
        "outputId": "6757746e-f3c0-4bf9-aa42-577115db1fca"
      },
      "outputs": [
        {
          "output_type": "stream",
          "name": "stdout",
          "text": [
            "Model: \"sequential_2\"\n",
            "_________________________________________________________________\n",
            " Layer (type)                Output Shape              Param #   \n",
            "=================================================================\n",
            " conv2d (Conv2D)             (None, 14, 14, 16)        160       \n",
            "                                                                 \n",
            " conv2d_1 (Conv2D)           (None, 7, 7, 8)           1160      \n",
            "                                                                 \n",
            "=================================================================\n",
            "Total params: 1,320\n",
            "Trainable params: 1,320\n",
            "Non-trainable params: 0\n",
            "_________________________________________________________________\n"
          ]
        }
      ],
      "source": [
        "autoencoder.encoder.summary()"
      ]
    },
    {
      "cell_type": "markdown",
      "metadata": {
        "id": "DDZBfMx1UtXx"
      },
      "source": [
        "The decoder upsamples the images back from 7x7 to 28x28."
      ]
    },
    {
      "cell_type": "code",
      "execution_count": 16,
      "metadata": {
        "id": "pbeQtYMaUpro",
        "colab": {
          "base_uri": "https://localhost:8080/"
        },
        "outputId": "096457b4-67d4-460e-e504-e94bd046731f"
      },
      "outputs": [
        {
          "output_type": "stream",
          "name": "stdout",
          "text": [
            "Model: \"sequential_3\"\n",
            "_________________________________________________________________\n",
            " Layer (type)                Output Shape              Param #   \n",
            "=================================================================\n",
            " conv2d_transpose (Conv2DTra  (None, 14, 14, 8)        584       \n",
            " nspose)                                                         \n",
            "                                                                 \n",
            " conv2d_transpose_1 (Conv2DT  (None, 28, 28, 16)       1168      \n",
            " ranspose)                                                       \n",
            "                                                                 \n",
            " conv2d_2 (Conv2D)           (None, 28, 28, 1)         145       \n",
            "                                                                 \n",
            "=================================================================\n",
            "Total params: 1,897\n",
            "Trainable params: 1,897\n",
            "Non-trainable params: 0\n",
            "_________________________________________________________________\n"
          ]
        }
      ],
      "source": [
        "autoencoder.decoder.summary()"
      ]
    },
    {
      "cell_type": "markdown",
      "metadata": {
        "id": "A7-VAuEy_N6M"
      },
      "source": [
        "Plotting both the noisy images and the denoised images produced by the autoencoder."
      ]
    },
    {
      "cell_type": "code",
      "execution_count": 17,
      "metadata": {
        "id": "t5IyPi1fCQQz"
      },
      "outputs": [],
      "source": [
        "encoded_imgs = autoencoder.encoder(x_test_noisy).numpy()\n",
        "decoded_imgs = autoencoder.decoder(encoded_imgs).numpy()"
      ]
    },
    {
      "cell_type": "code",
      "execution_count": 18,
      "metadata": {
        "id": "sfxr9NdBCP_x",
        "colab": {
          "base_uri": "https://localhost:8080/",
          "height": 239
        },
        "outputId": "4fead177-2969-43ea-9af1-558c054dcb7e"
      },
      "outputs": [
        {
          "output_type": "display_data",
          "data": {
            "text/plain": [
              "<Figure size 1440x288 with 20 Axes>"
            ],
            "image/png": "iVBORw0KGgoAAAANSUhEUgAABG4AAAD3CAYAAABM6xLyAAAABHNCSVQICAgIfAhkiAAAAAlwSFlzAAALEgAACxIB0t1+/AAAADh0RVh0U29mdHdhcmUAbWF0cGxvdGxpYiB2ZXJzaW9uMy4yLjIsIGh0dHA6Ly9tYXRwbG90bGliLm9yZy+WH4yJAAAgAElEQVR4nOy9d5glVdW+/eyJhEFQEEVEFFQUfAm+gqggqCBRAZEkSM45Z1EJEkQkJ5Wck4EcBAQEhR+S9FVEBUQJIjnNDDD1/dFdm3s/3VXTPXN6ps98674uL/ehqs+pU2unOrOe9aSqqhQEQRAEQRAEQRAEQRAMP0ZM7wsIgiAIgiAIgiAIgiAI+id+uAmCIAiCIAiCIAiCIBimxA83QRAEQRAEQRAEQRAEw5T44SYIgiAIgiAIgiAIgmCYEj/cBEEQBEEQBEEQBEEQDFPih5sgCIIgCIIgCIIgCIJhypD/cJNSOjWl9J1OnzuZ9/lwSqlKKY2a2vfqBCmlD6WUXk0pjZze1zIlRAy7P4ZSxFHq/jhGDLs/hlLEUer+OEYMI4ZT+JkRww4Tcez+OEYMuz+GUsRRGvo4pqqqhuJ9pysppQ9LelTS6Kqq3pq+VxNMCRHDGYOIY/cTMZwxiDh2PxHD7idiOGMQcex+IoYzBv9/i+OQZtx0w6+GKaXvpZS+N72vY7gSMZwxiDh2PxHDGYOIY/cTMex+IoYzBhHH7idiOGMQcZw2DPqHm5TSJ1NKt6aUXkwp/Sml9HUcOyuldEpK6ZqU0muSvtT73w7FOXunlJ5KKT2ZUtqyN73po/j7Q3vby6eU/pVS2iOl9J/ev9kM77NaSum+lNLLKaUnpkUgeq9125TSI73f/6SUUuo9NiKldGBK6fHe6z0npTR777EijSultGlK6R8ppVdSSo+mlDbEZ2yeUvpzSumFlNL1KaX5h+B7RAy7PIa9nxNx7PI4Rgy7P4a9nxNx7PI4RgwjhhHD6R/D3s+JOHZ5HCOG3R/D3s+JOA6zOA7qh5uU0mhJV0q6QdLcknaSdH5KaSGc9i1Jh0maTdId9vcrS9pd0gqSPipp+cl85PslzS5pXklbSDoppfTu3mOvSdpY0hySVpO0XUppzcF8nylkdUlLSlpU0rqSVur975v2/u9LkhaQNE7Sif7HKaVZJR0vaZWqqmaT9HlJ9/ceW0PS/pK+Iem9km6XdGEnLz5iKKnLY9j7ORHHLo9jxFBSl8ew93Mijl0ex4ihpIhhxDDm04hjB4gYSuryGPZ+TsRxGMZxsBk3S/de3BFVVU2squpmSVdJ2gDn/LKqqt9WVTWpqqrx9vfrSjqzqqo/VVX1uqTvTebz3pR0cFVVb1ZVdY2kVyUtJElVVd1aVdVDvZ/zoHq+7HKD/D5TwhFVVb1YVdU/Jd0iafHe/76hpGOqqvpHVVWvStpP0vqp/2JJkyR9KqU0c1VVT1VV9afe/76tpMOrqvpzr07vB5IWH8gvcIMgYtj9MZQijlL3xzFi2P0xlCKOUvfHMWIYMYwY9hDzacRxaokYdn8MpYijNAzjONgfbj4g6Ymqqibhvz2unl/Hap6Y3N8P8FxJeq4qCw29rp5OpJTSZ1NKt6SUnk0pvaSeGzDX5L5A799elXrSnl6UtK+kfevXKaWrJvPnT/d3Per5bo/j2OOSRkl6H/+4qqrXJK3Xe71PpZSuTil9ovfw/JKOw7U9LympvL9TS8Sw+2NYX2vEsZ/rUffEMWLY/TGsrzXi2M/1qHviGDGMGEYMp38M62uNOPZzPeqeOEYMuz+G9bVGHPu5Hk3HOA72h5snJc2XUuLffUjSv3mdLX//lKQP4vV8g/x8coGkX0mar6qq2SWdqp4vPFmqqlq9qqo5qqqaQ9IR6vlFbY7e/60+hdfzpHqCUPMhSW9Jeqafz7++qqoVJc0j6S+SftJ76AlJ2+Ba5qiqauaqqu6cwmtqus6IYf90Swzra4049k+3xDFi2Ey3xLC+1ohj/3RLHCOGzUQMB0/EcMqJODbTLXGMGDbTLTGsrzXi2D/TLY6D/eHm9+r5xWnvlNLolNLykr4m6aIB/v0lkjZLPcWOZpE0Nf7ts0l6vqqq8SmlpdSjs5ueXChpt5TSR1JK49ST8nRxZdZkKaX3pZTWSD26twnqSQWrf808VdJ+KaVFes+dPaW0ToevM2LYTLfEUIo4ttEtcYwYNtMtMZQijm10Sxwjhs1EDAdPxHDKiTg20y1xjBg20y0xlCKObUy3OA7qh5uqqiaqJ2irSPqvpJMlbVxV1V8G+PfXqqdIzy2S/ibpd72HJgzmOnrZXtLBKaVXJB2kng4yPTlD0rmSblOPn/x49RRyckaop1jTk+pJi1pO0naSVFXVzyUdKemilNLLkv6onnvdMSKGrXRFDHs/J+LYTFfEMWLYSlfEsPdzIo7NdEUcI4atRAwHT8RwCok4ttIVcYwYttIVMez9nIhjM9Mtjqmq2rKchpaU0ifVc6Fj/VeqoDuIGM4YRBy7n4jhjEHEsfuJGHY/EcMZg4hj9xMxnDGIOHaGwUqlppqU0loppbGpx+LrSElXRgC7i4jhjEHEsfuJGM4YRBy7n4hh9xMxnDGIOHY/EcMZg4hj55nmP9xI2kbSfyT9XdLb6k0ZCrqKiOGMQcSx+4kYzhhEHLufiGH3EzGcMYg4dj8RwxmDiGOHma5SqSAIgiAIgiAIgiAIgqCZ6ZFxEwRBEARBEARBEARBEAyA+OEmCIIgCIIgCIIgCIJgmDJqMCenlKqUkiRpMBKrsWPH5vakSZNy+8033xzMx/fLTDPNVLweP358v+eNGFH+RsXrHzNmTHHs7bff7rft33nOOefM7eeee67xGmeZZZbc9u/81lvv1GgaOXJkcWzWWWeVJL3xxhuaMGFCavyAQTBq1Kiqjge/myRNnDgxt9viO9DvPccccxSvX3755dyu+5Ekvf/97y/O43synjPPPHNx3ujRoxs/e8KECf22P/jBDxbnPfnkk7nNvimVfYbHeO3++j3veU9x7L///W/xsqqq9zZe9CBIKVX19fl1E+/bjPGUMmrUO9MGY/Cxj32sOI99/aWXXspt71uzzTZbbnt/ete73pXbnEf+8pfSjfDd7353br/22mvFMfZzXq/3f34vn0d4zVVVdWQsppSmmU7V5z/OSZyDOLalMh7s5z4GOA97f2SfYwxfeOGFAV279M5cKJXjmdcuDXxuUofH4kDO8/nrjTfe6Pc8xsZ5/fXXi9dNc9Rcc81VnMex+Oqrr+Y2x5ckjRs3rt/zpDJejCPHjVTOgU888UQ/32Ly8D35WVI5vodiLPr38T42EDzWfE+/r/x+H/7wh3Pb5zGOMcbNz3v88cdz+yMf+UhxjJ/N9/O58N///ndu+9zB79Y2xj7wgQ/k9rPPPlscs31Qx8biiBEjqnof5Wsfx45/J85nTXONv24bz/xs36NyHzT33HP3ew1SGSvvg+wz/F5T0lcnxzzzzJPbTz31VHGMzwNDMRY9htwjN82ffp7f17Z7xPvK83x8vPe973RXztc+P/M9uM+RyrmR/cCfEbgX8X7rc0kTnC/8vnFueuONNzo2FkeNGlXV8fNxxDXi+eefb3wPrmm+VnEcORybbf2E78l+4vs/7mG4RkplzL2fEM4DTc+pUjn/eLyJH7M9dkfG4siRI6u6f/izw+yzz57bvud75ZVX+n0/39twfPj7Mx7cf/tzMu950762v/cfyGe10fZs1RZrfpavITZ/NI7Fwf5wo6aB2AYfljmI+NA8pXCjI/V9oKvxwcbr8Pd48cUXc5uTg08Aq6++em6fffbZjde48MIL5/YzzzxTHHv66adz2x+aPvvZz0qSbr311sb3Hixjx47VJz7xCUl9N3yPPfZYbrfF9+tf/3pun3nmmY3nfeUrXyle33jjjbnNzrvLLrsU551zzjm5/cc//jG3/YcB/uDjk9jf/va33Ob32mOPPYrzvvvd7+a2LwScQDkR+YDlYr/mmmsWx37605/y5ePqECNGjMiD3uNI/Ieqf/zjH1P92fyRZN55583t6667rjiP4/vqq6/Obd+YfOlLX8ptxl6SvvzlL+f2xz/+8dyux0bNiiuumNu/+93vimOMHR8mOM6lcjPm80jbQtsN+AKx+OKL5zZ/XNx4442L884777zcZr/3xZOx8XvFB0med9FFFw3o2v16Obb/85//FOcNdE5WB8fiQPH568EHH+z3vE996lPFa26K/t//+3/FMa5rnL/WWGON4jw+OP/mN7/J7a9+9avFeZ///Odz+6677iqOXXzxxbk9//zz5zbnA0naaKONcnvnnXcujg10U8T3XHDBBYtjPr47jf/47n1sICy00ELFa34fv6/cf7DP+vf85Cc/mdtt8912271T+/Gss84qjvGz632A1PdH1P333z+3fe/E/nnuuefmtj+08DpOO+204ti//vUvvuzYWBw5cmS+1x/60IeKY/fee29u+wMEf9Bfeumlc/uRRx4pzvv73/+e223jmXsT7v+kcp3ccMMNc9t/MLz99ttz2/4BqBgT9913X2639VX/AWOgY3GrrbbK7YMPPrg4Vt+3TvwjbH/wRyO
